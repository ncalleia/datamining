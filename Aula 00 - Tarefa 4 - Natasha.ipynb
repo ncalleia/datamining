{
 "cells": [
  {
   "cell_type": "markdown",
   "metadata": {},
   "source": [
    "# Começando a Entender Estatística\n",
    "\n",
    "### *Por Natasha Rocha*\n",
    "\n",
    "https://www.kaggle.com/rounakbanik/pokemon/data"
   ]
  },
  {
   "cell_type": "code",
   "execution_count": 1,
   "metadata": {},
   "outputs": [],
   "source": [
    "import csv\n",
    "import numpy as np\n",
    "import matplotlib.pyplot as plt\n",
    "import random"
   ]
  },
  {
   "cell_type": "code",
   "execution_count": 2,
   "metadata": {
    "scrolled": true
   },
   "outputs": [],
   "source": [
    "def parse_csv(csvfile):\n",
    "    reader = csv.DictReader(csvfile)\n",
    "    keys = reader.fieldnames\n",
    "    \n",
    "    parsed_data = {k: [] for k in keys}\n",
    "    \n",
    "    for row in reader:\n",
    "        for key in row:\n",
    "            parsed_data[key].append(row[key])\n",
    "    \n",
    "    return parsed_data\n",
    "\n",
    "with open(\"./pokemon.csv\", encoding='utf-8') as poke_csv:\n",
    "    poke_data = parse_csv(poke_csv)\n",
    "\n",
    "poke_weight_list = list(map(lambda w: float(w), filter(lambda w: w != '', poke_data['weight_kg'])))"
   ]
  },
  {
   "cell_type": "code",
   "execution_count": 3,
   "metadata": {},
   "outputs": [
    {
     "data": {
      "text/plain": [
       "(array([ 45., 222., 258., 214., 129.,  61.,  32.,  23.,  10.,   6.]),\n",
       " array([ 16.84  ,  30.6855,  44.531 ,  58.3765,  72.222 ,  86.0675,\n",
       "         99.913 , 113.7585, 127.604 , 141.4495, 155.295 ]),\n",
       " <a list of 10 Patch objects>)"
      ]
     },
     "execution_count": 3,
     "metadata": {},
     "output_type": "execute_result"
    },
    {
     "data": {
      "image/png": "[encoded data removed]",
      "text/plain": [
       "<Figure size 432x288 with 1 Axes>"
      ]
     },
     "metadata": {},
     "output_type": "display_data"
    }
   ],
   "source": [
    "sample_size = 20\n",
    "poke_mean_list = []\n",
    "\n",
    "for i in range(1000):\n",
    "    sample = random.sample(poke_weight_list, sample_size)\n",
    "    poke_mean_list.append(np.mean(sample))\n",
    "\n",
    "plt.hist(poke_mean_list)"
   ]
  }
 ],
 "metadata": {
  "kernelspec": {
   "display_name": "Python 3",
   "language": "python",
   "name": "python3"
  },
  "language_info": {
   "codemirror_mode": {
    "name": "ipython",
    "version": 3
   },
   "file_extension": ".py",
   "mimetype": "text/x-python",
   "name": "python",
   "nbconvert_exporter": "python",
   "pygments_lexer": "ipython3",
   "version": "3.6.4"
  }
 },
 "nbformat": 4,
 "nbformat_minor": 2
}
