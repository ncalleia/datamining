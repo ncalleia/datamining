{
 "cells": [
  {
   "cell_type": "markdown",
   "metadata": {},
   "source": [
    "# Média e Desvio Padrão com Numpy\n",
    "\n",
    "### *Por Natasha Rocha*\n",
    "\n",
    "https://www.kaggle.com/rounakbanik/pokemon/data"
   ]
  },
  {
   "cell_type": "code",
   "execution_count": 1,
   "metadata": {},
   "outputs": [],
   "source": [
    "import csv\n",
    "import numpy as np"
   ]
  },
  {
   "cell_type": "code",
   "execution_count": 2,
   "metadata": {
    "scrolled": true
   },
   "outputs": [],
   "source": [
    "##################################################################### código das tarefas anteriores\n",
    "def parse_csv(csvfile):\n",
    "    reader = csv.DictReader(csvfile)\n",
    "    keys = reader.fieldnames\n",
    "    \n",
    "    parsed_data = {k: [] for k in keys}\n",
    "    \n",
    "    for row in reader:\n",
    "        for key in row:\n",
    "            parsed_data[key].append(row[key])\n",
    "    \n",
    "    return parsed_data\n",
    "\n",
    "with open(\"./pokemon.csv\", encoding='utf-8') as poke_csv:\n",
    "    poke_data = parse_csv(poke_csv)\n",
    "\n",
    "poke_weight_list = list(map(lambda w: float(w), filter(lambda w: w != '', poke_data['weight_kg'])))\n",
    "###################################################################################################"
   ]
  },
  {
   "cell_type": "code",
   "execution_count": 3,
   "metadata": {},
   "outputs": [
    {
     "name": "stdout",
     "output_type": "stream",
     "text": [
      "Média: 61.37810499359796\n",
      "Desvio Padrão: 109.28473397573765\n"
     ]
    }
   ],
   "source": [
    "mean = np.mean(poke_weight_list)\n",
    "std = np.std(poke_weight_list)\n",
    "\n",
    "print(f'Média: {mean}\\nDesvio Padrão: {std}')"
   ]
  }
 ],
 "metadata": {
  "kernelspec": {
   "display_name": "Python 3",
   "language": "python",
   "name": "python3"
  },
  "language_info": {
   "codemirror_mode": {
    "name": "ipython",
    "version": 3
   },
   "file_extension": ".py",
   "mimetype": "text/x-python",
   "name": "python",
   "nbconvert_exporter": "python",
   "pygments_lexer": "ipython3",
   "version": "3.6.4"
  }
 },
 "nbformat": 4,
 "nbformat_minor": 2
}
