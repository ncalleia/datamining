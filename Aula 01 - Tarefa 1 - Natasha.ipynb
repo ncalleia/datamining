{
 "cells": [
  {
   "cell_type": "markdown",
   "metadata": {},
   "source": [
    "# Utilizando Pandas\n",
    "## Natasha Rocha - 112079422\n",
    "\n",
    "https://www.kaggle.com/rounakbanik/pokemon/data"
   ]
  },
  {
   "cell_type": "code",
   "execution_count": 1,
   "metadata": {},
   "outputs": [],
   "source": [
    "import pandas as pd\n",
    "import numpy as np\n",
    "import matplotlib.pyplot as plt"
   ]
  },
  {
   "cell_type": "code",
   "execution_count": 21,
   "metadata": {},
   "outputs": [
    {
     "name": "stdout",
     "output_type": "stream",
     "text": [
      "0     Bulbasaur\n",
      "1       Ivysaur\n",
      "2      Venusaur\n",
      "3    Charmander\n",
      "4    Charmeleon\n",
      "5     Charizard\n",
      "6      Squirtle\n",
      "7     Wartortle\n",
      "8     Blastoise\n",
      "Name: name, dtype: object\n"
     ]
    }
   ],
   "source": [
    "# Leitura e carregamento dos dados CSV:\n",
    "pokedex = pd.read_csv(\"./pokemon.csv\")\n",
    "print(pokedex[\"name\"][:9])"
   ]
  },
  {
   "cell_type": "code",
   "execution_count": 24,
   "metadata": {},
   "outputs": [
    {
     "data": {
      "text/plain": [
       "<matplotlib.collections.PathCollection at 0x110deecf8>"
      ]
     },
     "execution_count": 24,
     "metadata": {},
     "output_type": "execute_result"
    },
    {
     "data": {
      "image/png": "[encoded data removed]",
      "text/plain": [
       "<Figure size 432x288 with 1 Axes>"
      ]
     },
     "metadata": {},
     "output_type": "display_data"
    }
   ],
   "source": [
    "# Scatter plot com os pesos\n",
    "x = range(pokedex.shape[0]) # número de linhas, ou número do pokémon\n",
    "plt.scatter(x, pokedex[\"weight_kg\"])"
   ]
  },
  {
   "cell_type": "code",
   "execution_count": 31,
   "metadata": {},
   "outputs": [
    {
     "data": {
      "text/plain": [
       "count    781.000000\n",
       "mean      61.378105\n",
       "std      109.354766\n",
       "Name: weight_kg, dtype: float64"
      ]
     },
     "execution_count": 31,
     "metadata": {},
     "output_type": "execute_result"
    }
   ],
   "source": [
    "# Cálculo da média e desvio padrão dos pesos\n",
    "pokedex[\"weight_kg\"].describe()[[\"count\", \"mean\", \"std\"]]"
   ]
  },
  {
   "cell_type": "code",
   "execution_count": 32,
   "metadata": {},
   "outputs": [
    {
     "data": {
      "text/plain": [
       "(array([ 93., 345., 264., 166.,  83.,  30.,  11.,   6.,   0.,   2.]),\n",
       " array([ 16.30526316,  34.35157895,  52.39789474,  70.44421053,\n",
       "         88.49052632, 106.53684211, 124.58315789, 142.62947368,\n",
       "        160.67578947, 178.72210526, 196.76842105]),\n",
       " <a list of 10 Patch objects>)"
      ]
     },
     "execution_count": 32,
     "metadata": {},
     "output_type": "execute_result"
    },
    {
     "data": {
      "image/png": "[encoded data removed]",
      "text/plain": [
       "<Figure size 432x288 with 1 Axes>"
      ]
     },
     "metadata": {},
     "output_type": "display_data"
    }
   ],
   "source": [
    "# Amostra, com média. Amostrar 1000 vezes. Criar histograma com as médias\n",
    "sample_size = 20\n",
    "poke_weight_mean_list = []\n",
    "\n",
    "for i in range(1000):\n",
    "    sample = pokedex[\"weight_kg\"].sample(n = sample_size)\n",
    "    poke_weight_mean_list.append(sample.mean())\n",
    "\n",
    "plt.hist(poke_weight_mean_list)"
   ]
  }
 ],
 "metadata": {
  "kernelspec": {
   "display_name": "Python 3",
   "language": "python",
   "name": "python3"
  },
  "language_info": {
   "codemirror_mode": {
    "name": "ipython",
    "version": 3
   },
   "file_extension": ".py",
   "mimetype": "text/x-python",
   "name": "python",
   "nbconvert_exporter": "python",
   "pygments_lexer": "ipython3",
   "version": "3.6.4"
  }
 },
 "nbformat": 4,
 "nbformat_minor": 2
}
